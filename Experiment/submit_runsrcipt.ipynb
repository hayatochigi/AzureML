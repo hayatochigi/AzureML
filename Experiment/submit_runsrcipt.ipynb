{
 "metadata": {
  "language_info": {
   "codemirror_mode": {
    "name": "ipython",
    "version": 3
   },
   "file_extension": ".py",
   "mimetype": "text/x-python",
   "name": "python",
   "nbconvert_exporter": "python",
   "pygments_lexer": "ipython3",
   "version": "3.8.5"
  },
  "orig_nbformat": 2,
  "kernelspec": {
   "name": "python3",
   "display_name": "Python 3.8.5 64-bit ('base': conda)",
   "metadata": {
    "interpreter": {
     "hash": "b3ba2566441a7c06988d0923437866b63cedc61552a5af99d1f4fb67d367b25f"
    }
   }
  }
 },
 "nbformat": 4,
 "nbformat_minor": 2,
 "cells": [
  {
   "cell_type": "code",
   "execution_count": null,
   "metadata": {},
   "outputs": [],
   "source": [
    "from azureml.core import Workspace, Datastore, Dataset, Experiment, ScriptRunConfig\n",
    "\n",
    "ws = Workspace.from_config()\n",
    "az_store = Datastore.get(ws, 'from_sdk')\n",
    "az_ds = Dataset.get_by_name(ws, 'Loan Applications Using SDK')\n",
    "az_default_store = ws.get_default_datastore()"
   ]
  },
  {
   "cell_type": "code",
   "execution_count": null,
   "metadata": {},
   "outputs": [],
   "source": [
    "new_exp = Experiment(workspace=ws, name='Loan_Script')\n",
    "\n",
    "script_config = ScriptRunConfig(source_directory='.',\n",
    "                                script='python_script.py')\n",
    "\n",
    "new_run = new_exp.submit(config=script_config)\n",
    "\n",
    "new_run.wait_for_completion()"
   ]
  }
 ]
}