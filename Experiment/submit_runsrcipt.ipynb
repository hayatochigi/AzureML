{
 "metadata": {
  "language_info": {
   "codemirror_mode": {
    "name": "ipython",
    "version": 3
   },
   "file_extension": ".py",
   "mimetype": "text/x-python",
   "name": "python",
   "nbconvert_exporter": "python",
   "pygments_lexer": "ipython3",
   "version": "3.8.5-final"
  },
  "orig_nbformat": 2,
  "kernelspec": {
   "name": "python3",
   "display_name": "Python 3.8.5 64-bit (conda)",
   "metadata": {
    "interpreter": {
     "hash": "b3ba2566441a7c06988d0923437866b63cedc61552a5af99d1f4fb67d367b25f"
    }
   }
  }
 },
 "nbformat": 4,
 "nbformat_minor": 2,
 "cells": [
  {
   "cell_type": "code",
   "execution_count": null,
   "metadata": {},
   "outputs": [],
   "source": [
    "from azureml.core import Workspace, Datastore, Dataset, Experiment, ScriptRunConfig, Environment\n",
    "\n",
    "ws = Workspace.from_config('./config.json')\n",
    "az_store = Datastore.get(ws, 'from_sdk')\n",
    "az_ds = Dataset.get_by_name(ws, 'Loan Applications Using SDK')\n",
    "az_default_store = ws.get_default_datastore()"
   ]
  },
  {
   "cell_type": "code",
   "execution_count": null,
   "metadata": {},
   "outputs": [],
   "source": [
    "new_exp = Experiment(workspace=ws, name='Loan_Script')\n",
    "\n",
    "myenv = Environment(name='sklearn_env')\n",
    "\n",
    "from azureml.core.environment import CondaDependencies\n",
    "myenv_dep = CondaDependencies.create(conda_packages=['scikit-learn'])\n",
    "myenv.python.conda_dependencies = myenv_dep\n",
    "myenv.register(ws)\n",
    "\n",
    "script_config = ScriptRunConfig(source_directory='.',\n",
    "                                script='loan_prediction.py',\n",
    "                                environment=myenv)\n",
    "\n",
    "new_run = new_exp.submit(config=script_config)\n",
    "\n",
    "new_run.wait_for_completion()"
   ]
  }
 ]
}