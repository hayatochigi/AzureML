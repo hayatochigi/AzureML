{
 "metadata": {
  "language_info": {
   "codemirror_mode": {
    "name": "ipython",
    "version": 3
   },
   "file_extension": ".py",
   "mimetype": "text/x-python",
   "name": "python",
   "nbconvert_exporter": "python",
   "pygments_lexer": "ipython3",
   "version": "3.8.5"
  },
  "orig_nbformat": 2,
  "kernelspec": {
   "name": "python3",
   "display_name": "Python 3.8.5 64-bit ('base': conda)",
   "metadata": {
    "interpreter": {
     "hash": "b3ba2566441a7c06988d0923437866b63cedc61552a5af99d1f4fb67d367b25f"
    }
   }
  }
 },
 "nbformat": 4,
 "nbformat_minor": 2,
 "cells": [
  {
   "cell_type": "code",
   "execution_count": null,
   "metadata": {},
   "outputs": [],
   "source": [
    "from azureml.core import Workspace, Datastore, Dataset, Experiment\n",
    "\n",
    "ws = Workspace.from_config()\n",
    "az_store = Datastore.get(ws, 'from_sdk')\n",
    "az_ds = Dataset.get_by_name(ws, 'Loan Applications Using SDK')\n",
    "az_default_store = ws.get_default_datastore()"
   ]
  },
  {
   "cell_type": "code",
   "execution_count": null,
   "metadata": {},
   "outputs": [],
   "source": [
    "# Create a new experiment\n",
    "\n",
    "exp = Experiment(workspace=ws, \n",
    "                 name='Loan-SDK-Exp01')\n",
    "print(f'Experiment {exp.name} is created')"
   ]
  },
  {
   "cell_type": "code",
   "execution_count": null,
   "metadata": {},
   "outputs": [],
   "source": [
    "# Start experiment with start_logging method\n",
    "new_run = exp.start_logging()\n",
    "\n",
    "df = az_ds.to_pandas_dataframe()\n",
    "total_len = len(df)\n",
    "null_info = df.isnull().sum()\n",
    "\n",
    "# Log metrics\n",
    "new_run.log('Total Length', total_len, description='Total length of dataset')\n",
    "\n",
    "for column in df.columns:\n",
    "    new_run.log(column, null_info[column])\n",
    "\n",
    "# Complete the experiment\n",
    "new_run.complete()"
   ]
  }
 ]
}