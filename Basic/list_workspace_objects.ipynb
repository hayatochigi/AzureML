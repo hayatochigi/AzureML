{
 "metadata": {
  "language_info": {
   "codemirror_mode": {
    "name": "ipython",
    "version": 3
   },
   "file_extension": ".py",
   "mimetype": "text/x-python",
   "name": "python",
   "nbconvert_exporter": "python",
   "pygments_lexer": "ipython3",
   "version": "3.8.5"
  },
  "orig_nbformat": 2,
  "kernelspec": {
   "name": "python3",
   "display_name": "Python 3.8.5 64-bit ('base': conda)",
   "metadata": {
    "interpreter": {
     "hash": "b3ba2566441a7c06988d0923437866b63cedc61552a5af99d1f4fb67d367b25f"
    }
   }
  }
 },
 "nbformat": 4,
 "nbformat_minor": 2,
 "cells": [
  {
   "cell_type": "code",
   "execution_count": null,
   "metadata": {},
   "outputs": [],
   "source": [
    "from azureml.core import Workspace, Datastore, Dataset\n",
    "\n",
    "# List workspace\n",
    "ws = Workspace.from_config()\n",
    "ws_list = Workspace.list(subscription_id=\"123456\")\n",
    "print(ws_list['dp-100'])"
   ]
  },
  {
   "cell_type": "code",
   "execution_count": null,
   "metadata": {},
   "outputs": [],
   "source": [
    "# Display default Datastore\n",
    "default_ds = ws.get_default_datastore()\n",
    "print(default_ds)"
   ]
  },
  {
   "cell_type": "code",
   "execution_count": null,
   "metadata": {},
   "outputs": [],
   "source": [
    "# List Datastores\n",
    "store_list = list(ws.datastores)\n",
    "print(store_list)"
   ]
  },
  {
   "cell_type": "code",
   "execution_count": null,
   "metadata": {},
   "outputs": [],
   "source": [
    "# List Datasets\n",
    "dataset_list = list(ws.datasets)\n",
    "print(dataset_list)\n",
    "\n",
    "# Get dataset by name\n",
    "loan_ds = Dataset.get_by_name(ws, \"Loan Applications Using SDK\")\n",
    "print(loan_ds.name)\n",
    "\n",
    "# Get dataset by keys\n",
    "ds_list = list(ws.datasets.keys())\n",
    "for items in ds_list:\n",
    "    print(items)"
   ]
  }
 ]
}