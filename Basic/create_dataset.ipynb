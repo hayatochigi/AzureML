{
 "metadata": {
  "language_info": {
   "codemirror_mode": {
    "name": "ipython",
    "version": 3
   },
   "file_extension": ".py",
   "mimetype": "text/x-python",
   "name": "python",
   "nbconvert_exporter": "python",
   "pygments_lexer": "ipython3",
   "version": "3.8.5"
  },
  "orig_nbformat": 2,
  "kernelspec": {
   "name": "python3",
   "display_name": "Python 3.8.5 64-bit ('base': conda)",
   "metadata": {
    "interpreter": {
     "hash": "b3ba2566441a7c06988d0923437866b63cedc61552a5af99d1f4fb67d367b25f"
    }
   }
  }
 },
 "nbformat": 4,
 "nbformat_minor": 2,
 "cells": [
  {
   "cell_type": "code",
   "execution_count": null,
   "metadata": {},
   "outputs": [],
   "source": [
    "from azureml.core import Workspace, Datastore, Dataset\n",
    "\n",
    "ws = Workspace.from_config()\n",
    "print(f'Workspace name: {ws.name}')"
   ]
  },
  {
   "cell_type": "code",
   "execution_count": null,
   "metadata": {},
   "outputs": [],
   "source": [
    "az_store = Datastore.get(ws, datastore_name='from_sdk')\n",
    "print(az_store.name)"
   ]
  },
  {
   "cell_type": "code",
   "execution_count": null,
   "metadata": {},
   "outputs": [],
   "source": [
    "csv_path = [(az_store, \"Loan Approval Prediction.csv\")]\n",
    "loan_dataset = Dataset.Tabular.from_delimited_files(path=csv_path)\n",
    "loan_dataset = loan_dataset.register(workspace=ws,\n",
    "                                    name='Loan Applications Using SDK',\n",
    "                                    create_new_version=True)"
   ]
  }
 ]
}