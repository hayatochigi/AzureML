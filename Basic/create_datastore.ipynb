{
 "metadata": {
  "language_info": {
   "codemirror_mode": {
    "name": "ipython",
    "version": 3
   },
   "file_extension": ".py",
   "mimetype": "text/x-python",
   "name": "python",
   "nbconvert_exporter": "python",
   "pygments_lexer": "ipython3",
   "version": "3.8.5-final"
  },
  "orig_nbformat": 2,
  "kernelspec": {
   "name": "python3",
   "display_name": "Python 3.8.5 64-bit (conda)",
   "metadata": {
    "interpreter": {
     "hash": "b3ba2566441a7c06988d0923437866b63cedc61552a5af99d1f4fb67d367b25f"
    }
   }
  }
 },
 "nbformat": 4,
 "nbformat_minor": 2,
 "cells": [
  {
   "cell_type": "code",
   "execution_count": 1,
   "metadata": {},
   "outputs": [
    {
     "output_type": "stream",
     "name": "stderr",
     "text": [
      "Failure while loading azureml_run_type_providers. Failed to load entrypoint automl = azureml.train.automl.run:AutoMLRun._from_run_dto with exception (cryptography 3.1.1 (c:\\programdata\\anaconda3\\lib\\site-packages), Requirement.parse('cryptography<4.0.0,>=3.3.1; extra == \"crypto\"'), {'PyJWT'}).\n",
      "Workspace name: dp-100\n"
     ]
    }
   ],
   "source": [
    "from azureml.core import Workspace, Datastore\n",
    "sys.path.append('C:\\\\Users\\\\hayat\\\\Documents\\\\GitHub\\\\AzureML')\n",
    "import get_subscription as getsub\n",
    "ws = Workspace.from_config(path='config.json')\n",
    "print(f'Workspace name: {ws.name}')"
   ]
  },
  {
   "cell_type": "code",
   "execution_count": 2,
   "metadata": {},
   "outputs": [
    {
     "output_type": "stream",
     "name": "stdout",
     "text": [
      "Datastore from_sdk created\n"
     ]
    }
   ],
   "source": [
    "ds = Datastore.register_azure_blob_container(workspace=ws, datastore_name='from_sdk',\n",
    "                                            account_name='dp100storage93ac4c4aceac',\n",
    "                                            account_key=getsub.get_sub(path='../access_key.txt'),\n",
    "                                            container_name='azuremlsdk',\n",
    "                                            )\n",
    "print(f'Datastore {ds.name} created')"
   ]
  }
 ]
}