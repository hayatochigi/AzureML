{
 "metadata": {
  "language_info": {
   "codemirror_mode": {
    "name": "ipython",
    "version": 3
   },
   "file_extension": ".py",
   "mimetype": "text/x-python",
   "name": "python",
   "nbconvert_exporter": "python",
   "pygments_lexer": "ipython3",
   "version": "3.8.5"
  },
  "orig_nbformat": 2,
  "kernelspec": {
   "name": "python3",
   "display_name": "Python 3.8.5 64-bit ('base': conda)",
   "metadata": {
    "interpreter": {
     "hash": "b3ba2566441a7c06988d0923437866b63cedc61552a5af99d1f4fb67d367b25f"
    }
   }
  }
 },
 "nbformat": 4,
 "nbformat_minor": 2,
 "cells": [
  {
   "cell_type": "code",
   "execution_count": null,
   "metadata": {},
   "outputs": [],
   "source": [
    "from azureml.core import Workspace, Datastore, Dataset\n",
    "\n",
    "ws = Workspace.from_config()\n",
    "az_store = Datastore.get(ws, 'from_sdk')\n",
    "az_ds = Dataset.get_by_name(ws, 'Loan Applications Using SDK')\n",
    "az_default_store = ws.get_default_datastore()"
   ]
  },
  {
   "cell_type": "code",
   "execution_count": null,
   "metadata": {},
   "outputs": [],
   "source": [
    "# Load azureml dataste into the pandas dataframe\n",
    "dataset = az_ds.to_pandas_dataframe()\n",
    "dataset"
   ]
  },
  {
   "cell_type": "code",
   "execution_count": null,
   "metadata": {},
   "outputs": [],
   "source": [
    "# Upload datframe to azureml dataset\n",
    "dataset_df = dataset[['Married', 'Gender', 'Loan_Status']]\n",
    "az_ds_from_df = Dataset.Tabular.register_pandas_dataframe(dataframe = dataset_df,\n",
    "                                                        target=az_store,\n",
    "                                                        name='Loan Dataset from DataFrame')"
   ]
  }
 ]
}