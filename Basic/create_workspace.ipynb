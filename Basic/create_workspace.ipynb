{
 "metadata": {
  "language_info": {
   "codemirror_mode": {
    "name": "ipython",
    "version": 3
   },
   "file_extension": ".py",
   "mimetype": "text/x-python",
   "name": "python",
   "nbconvert_exporter": "python",
   "pygments_lexer": "ipython3",
   "version": "3.8.5-final"
  },
  "orig_nbformat": 2,
  "kernelspec": {
   "name": "python3",
   "display_name": "Python 3.8.5 64-bit (conda)",
   "metadata": {
    "interpreter": {
     "hash": "b3ba2566441a7c06988d0923437866b63cedc61552a5af99d1f4fb67d367b25f"
    }
   }
  }
 },
 "nbformat": 4,
 "nbformat_minor": 2,
 "cells": [
  {
   "cell_type": "code",
   "execution_count": null,
   "metadata": {},
   "outputs": [],
   "source": [
    "from azureml.core import Workspace\n",
    "sys.path.append('C:\\\\Users\\\\hayat\\\\Documents\\\\GitHub\\\\AzureML')\n",
    "import get_subscription as getsub"
   ]
  },
  {
   "cell_type": "code",
   "execution_count": null,
   "metadata": {},
   "outputs": [],
   "source": [
    "ws = Workspace.create(name='dp-100', \n",
    "                      subscription_id=getsub.get_sub(path='../my_subscription.txt'),\n",
    "                      resource_group='azuremlsdk',\n",
    "                      create_resource_group=True,\n",
    "                      location='southeastasia')\n",
    "                      \n",
    "print(f'Workspace {ws.name} created')"
   ]
  }
 ]
}