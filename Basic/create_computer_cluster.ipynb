{
 "metadata": {
  "language_info": {
   "codemirror_mode": {
    "name": "ipython",
    "version": 3
   },
   "file_extension": ".py",
   "mimetype": "text/x-python",
   "name": "python",
   "nbconvert_exporter": "python",
   "pygments_lexer": "ipython3",
   "version": "3.8.5-final"
  },
  "orig_nbformat": 2,
  "kernelspec": {
   "name": "python3",
   "display_name": "Python 3.8.5 64-bit (conda)",
   "metadata": {
    "interpreter": {
     "hash": "b3ba2566441a7c06988d0923437866b63cedc61552a5af99d1f4fb67d367b25f"
    }
   }
  }
 },
 "nbformat": 4,
 "nbformat_minor": 2,
 "cells": [
  {
   "cell_type": "code",
   "execution_count": null,
   "metadata": {},
   "outputs": [],
   "source": [
    "from azureml.core import Workspace, Datastore, Dataset, Experiment, ScriptRunConfig, Environment\n",
    "\n",
    "ws = Workspace.from_config('./config.json')\n",
    "az_store = Datastore.get(ws, 'from_sdk')\n",
    "az_ds = Dataset.get_by_name(ws, 'Loan Applications Using SDK')\n",
    "az_default_store = ws.get_default_datastore()"
   ]
  },
  {
   "cell_type": "code",
   "execution_count": null,
   "metadata": {},
   "outputs": [],
   "source": [
    "cluster_name = 'my-cc-001'\n",
    "\n",
    "from azureml.core.compute import AmlCompute\n",
    "\n",
    "compute_config = AmlCompute.provisioning_configuration(vm_size='STANDARD_DS2_V2', max_nodes=2, vm_priority='lowpriority')\n",
    "\n",
    "compute_cluster = AmlCompute.create(workspace=ws, name=cluster_name, provisioning_configuration=compute_config)\n",
    "compute_cluster.wait_for_completion()"
   ]
  }
 ]
}